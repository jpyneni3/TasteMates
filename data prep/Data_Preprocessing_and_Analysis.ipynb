{
  "nbformat": 4,
  "nbformat_minor": 0,
  "metadata": {
    "colab": {
      "name": "6242 Data Preprocessing and Analysis",
      "provenance": [],
      "collapsed_sections": []
    },
    "kernelspec": {
      "display_name": "Python 3",
      "name": "python3"
    },
    "language_info": {
      "name": "python"
    }
  },
  "cells": [
    {
      "cell_type": "code",
      "metadata": {
        "id": "P3lhCJJPLTXJ"
      },
      "source": [
        "# Imports\n",
        "#basics\n",
        "import numpy as np\n",
        "import pandas as pd\n",
        "import scipy \n",
        "\n",
        "#misc\n",
        "import time\n",
        "\n",
        "#files & data\n",
        "import json\n",
        "from google.colab import files\n",
        "\n",
        "#viz\n",
        "import matplotlib.pyplot as plt\n",
        "import seaborn as sns \n",
        "\n",
        "#settings\n",
        "color = sns.color_palette()\n"
      ],
      "execution_count": 1,
      "outputs": []
    },
    {
      "cell_type": "code",
      "metadata": {
        "id": "o0ahjJELLcm_"
      },
      "source": [
        "# Install kaggle and create directory to store kaggle.json\n",
        "!pip install -U -q kaggle\n",
        "!mkdir -p ~/.kaggle"
      ],
      "execution_count": 2,
      "outputs": []
    },
    {
      "cell_type": "code",
      "metadata": {
        "colab": {
          "base_uri": "https://localhost:8080/"
        },
        "id": "DgFWTWKSLdEj",
        "outputId": "ebb7394b-e2c7-485b-9d50-8cc1b7398420"
      },
      "source": [
        "# Check if .kaggle exists in what is printed after running this cell\n",
        "!ls ~/ -a"
      ],
      "execution_count": 3,
      "outputs": [
        {
          "output_type": "stream",
          "text": [
            ".   .bashrc  .config  .ipython\t.kaggle  .local  .profile\n",
            "..  .cache   .gsutil  .jupyter\t.keras\t .npm\t .tmux.conf\n"
          ],
          "name": "stdout"
        }
      ]
    },
    {
      "cell_type": "code",
      "metadata": {
        "id": "BF4xXNwOLXVS"
      },
      "source": [
        "#########################################################\n",
        "#             STEP 1: GET DATASET INTO COLAB            #\n",
        "#########################################################\n",
        "# Source: https://medium.com/@opalkabert/downloading-kaggle-datasets-into-google-colab-fb9654c94235\n",
        "# Get JSON Kaggle API token by going to: \n",
        "# 1. Kaggle Profile\n",
        "# 2. Go to Accounts tab\n",
        "# 3. Scroll down to API and \"Create new API Token\"\n",
        "# 4. JSON file should be automatically downloaded"
      ],
      "execution_count": null,
      "outputs": []
    },
    {
      "cell_type": "code",
      "metadata": {
        "colab": {
          "resources": {
            "http://localhost:8080/nbextensions/google.colab/files.js": {
              "data": "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",
              "ok": true,
              "headers": [
                [
                  "content-type",
                  "application/javascript"
                ]
              ],
              "status": 200,
              "status_text": ""
            }
          },
          "base_uri": "https://localhost:8080/",
          "height": 89
        },
        "id": "0iilk3JKLaSu",
        "outputId": "8b956c93-8506-4857-fdd1-31fb91ce6d68"
      },
      "source": [
        "# Upload kaggle.json you downloaded in the previous step\n",
        "files.upload()"
      ],
      "execution_count": 4,
      "outputs": [
        {
          "output_type": "display_data",
          "data": {
            "text/html": [
              "\n",
              "     <input type=\"file\" id=\"files-3c6f67c2-bfe8-4cc7-8c9b-5f1e913791ff\" name=\"files[]\" multiple disabled\n",
              "        style=\"border:none\" />\n",
              "     <output id=\"result-3c6f67c2-bfe8-4cc7-8c9b-5f1e913791ff\">\n",
              "      Upload widget is only available when the cell has been executed in the\n",
              "      current browser session. Please rerun this cell to enable.\n",
              "      </output>\n",
              "      <script src=\"/nbextensions/google.colab/files.js\"></script> "
            ],
            "text/plain": [
              "<IPython.core.display.HTML object>"
            ]
          },
          "metadata": {
            "tags": []
          }
        },
        {
          "output_type": "stream",
          "text": [
            "Saving kaggle.json to kaggle.json\n"
          ],
          "name": "stdout"
        },
        {
          "output_type": "execute_result",
          "data": {
            "text/plain": [
              "{'kaggle.json': b'{\"username\":\"nehadesh\",\"key\":\"b1ff3516c2e6233953aac308c8a8aab7\"}'}"
            ]
          },
          "metadata": {
            "tags": []
          },
          "execution_count": 4
        }
      ]
    },
    {
      "cell_type": "code",
      "metadata": {
        "id": "_3HGGRo_LzQD"
      },
      "source": [
        "# Store Kaggle API token in colab\n",
        "!rm -f ~/.kaggle/kaggle.json\n",
        "!cp kaggle.json ~/.kaggle/"
      ],
      "execution_count": 5,
      "outputs": []
    },
    {
      "cell_type": "code",
      "metadata": {
        "id": "pP_UXEwDL2DI"
      },
      "source": [
        "# Kaggle recommends running this to prevent other users of your computer from accessing your credentials\n",
        "!chmod 600 ~/.kaggle/kaggle.json"
      ],
      "execution_count": 6,
      "outputs": []
    },
    {
      "cell_type": "code",
      "metadata": {
        "colab": {
          "base_uri": "https://localhost:8080/"
        },
        "id": "hmMnK2pVL3ut",
        "outputId": "bd7845c6-9dbc-4322-a8b3-a9ce974dd63e"
      },
      "source": [
        "# Download Yelp Dataset from Kaggle: \n",
        "# Link to dataset: https://www.kaggle.com/yelp-dataset/yelp-dataset\n",
        "!kaggle datasets download -d yelp-dataset/yelp-dataset\n",
        "!ls"
      ],
      "execution_count": 7,
      "outputs": [
        {
          "output_type": "stream",
          "text": [
            "Downloading yelp-dataset.zip to /content\n",
            "100% 4.92G/4.92G [01:09<00:00, 89.2MB/s]\n",
            "100% 4.92G/4.92G [01:09<00:00, 75.8MB/s]\n",
            "kaggle.json  sample_data  yelp-dataset.zip\n"
          ],
          "name": "stdout"
        }
      ]
    },
    {
      "cell_type": "code",
      "metadata": {
        "colab": {
          "base_uri": "https://localhost:8080/"
        },
        "id": "zLoHLyo1L5L-",
        "outputId": "ebc2f613-3570-4bed-82a9-40386203c564"
      },
      "source": [
        "# Unzip Yelp Data\n",
        "!unzip '/content/yelp-dataset.zip' -d '/content/yelp-dataset'"
      ],
      "execution_count": 8,
      "outputs": [
        {
          "output_type": "stream",
          "text": [
            "Archive:  /content/yelp-dataset.zip\n",
            "  inflating: /content/yelp-dataset/Dataset_User_Agreement.pdf  \n",
            "  inflating: /content/yelp-dataset/yelp_academic_dataset_business.json  \n",
            "  inflating: /content/yelp-dataset/yelp_academic_dataset_checkin.json  \n",
            "  inflating: /content/yelp-dataset/yelp_academic_dataset_review.json  \n",
            "  inflating: /content/yelp-dataset/yelp_academic_dataset_tip.json  \n",
            "  inflating: /content/yelp-dataset/yelp_academic_dataset_user.json  \n"
          ],
          "name": "stdout"
        }
      ]
    },
    {
      "cell_type": "code",
      "metadata": {
        "colab": {
          "base_uri": "https://localhost:8080/"
        },
        "id": "JnGyKPW1MBBU",
        "outputId": "554f75d9-398f-4339-e738-78d9bbe71190"
      },
      "source": [
        "# Larger datasets require pyspark\n",
        "!pip install pyspark"
      ],
      "execution_count": 9,
      "outputs": [
        {
          "output_type": "stream",
          "text": [
            "Collecting pyspark\n",
            "\u001b[?25l  Downloading https://files.pythonhosted.org/packages/45/b0/9d6860891ab14a39d4bddf80ba26ce51c2f9dc4805e5c6978ac0472c120a/pyspark-3.1.1.tar.gz (212.3MB)\n",
            "\u001b[K     |████████████████████████████████| 212.3MB 69kB/s \n",
            "\u001b[?25hCollecting py4j==0.10.9\n",
            "\u001b[?25l  Downloading https://files.pythonhosted.org/packages/9e/b6/6a4fb90cd235dc8e265a6a2067f2a2c99f0d91787f06aca4bcf7c23f3f80/py4j-0.10.9-py2.py3-none-any.whl (198kB)\n",
            "\u001b[K     |████████████████████████████████| 204kB 46.1MB/s \n",
            "\u001b[?25hBuilding wheels for collected packages: pyspark\n",
            "  Building wheel for pyspark (setup.py) ... \u001b[?25l\u001b[?25hdone\n",
            "  Created wheel for pyspark: filename=pyspark-3.1.1-py2.py3-none-any.whl size=212767604 sha256=fad12326b0b2e3d64d885271b6e6acad1b03b52f7a44644139604515a5b4a149\n",
            "  Stored in directory: /root/.cache/pip/wheels/0b/90/c0/01de724414ef122bd05f056541fb6a0ecf47c7ca655f8b3c0f\n",
            "Successfully built pyspark\n",
            "Installing collected packages: py4j, pyspark\n",
            "Successfully installed py4j-0.10.9 pyspark-3.1.1\n"
          ],
          "name": "stdout"
        }
      ]
    },
    {
      "cell_type": "code",
      "metadata": {
        "id": "Z5T-Dwh2MBeE"
      },
      "source": [
        "from pyspark.sql import SparkSession\n",
        "from pyspark.sql.functions import *\n",
        "from pyspark.sql.window import Window"
      ],
      "execution_count": 10,
      "outputs": []
    },
    {
      "cell_type": "code",
      "metadata": {
        "id": "MbW61aAkMC9j"
      },
      "source": [
        "spark = SparkSession.builder.appName('yelp_dataset').getOrCreate()"
      ],
      "execution_count": 11,
      "outputs": []
    },
    {
      "cell_type": "code",
      "metadata": {
        "id": "BKYQw5YeMEdT"
      },
      "source": [
        "# RAW, UNCLEANED DATA (refer to the other notebook for how to clean, etc. Didn't want to remove anything if y'all needed it)\n",
        "reviews_sk = spark.read.json('/content/yelp-dataset/yelp_academic_dataset_review.json')\n",
        "business_sk = spark.read.json('/content/yelp-dataset/yelp_academic_dataset_business.json')\n",
        "users_sk = spark.read.json('/content/yelp-dataset/yelp_academic_dataset_user.json')\n",
        "# UNCOMMENT BELOW IF YOU NEED THEM\n",
        "# tips_sk = spark.read.json('/content/yelp-dataset/yelp_academic_dataset_tip.json')\n",
        "# checkin_sk = spark.read.json('/content/yelp-dataset/yelp_academic_dataset_checkin.json')"
      ],
      "execution_count": 12,
      "outputs": []
    },
    {
      "cell_type": "code",
      "metadata": {
        "id": "W95Rg9JEE6jR"
      },
      "source": [
        "# Get dataset for Atlanta\n",
        "food_business = business_sk.filter(col('categories').contains('Restaurant'))\n",
        "atl_food_business = food_business.filter(lower(col(\"city\")) == \"atlanta\")\n",
        "atl_food_business = atl_food_business.filter(lower(col(\"state\")) == \"ga\")"
      ],
      "execution_count": 13,
      "outputs": []
    },
    {
      "cell_type": "code",
      "metadata": {
        "id": "S_pupXIiH8wd"
      },
      "source": [
        "reviews_sk = reviews_sk.withColumn(\"rating\", reviews_sk['stars'].cast(\"double\"))\n",
        "atl_food_reviews = reviews_sk.join(atl_food_business, \"business_id\", \"inner\")"
      ],
      "execution_count": 14,
      "outputs": []
    },
    {
      "cell_type": "code",
      "metadata": {
        "id": "phsZNCN1H-4K"
      },
      "source": [
        "star_counts = atl_food_business.groupBy('stars').count().toPandas()\n"
      ],
      "execution_count": 15,
      "outputs": []
    },
    {
      "cell_type": "code",
      "metadata": {
        "colab": {
          "base_uri": "https://localhost:8080/"
        },
        "id": "XUhfutCs3egG",
        "outputId": "b81867ff-7bf7-48b0-f85a-106ae9a392a8"
      },
      "source": [
        "print(atl_food_business.approxQuantile(\"stars\", [0.5], 0.25)) "
      ],
      "execution_count": 16,
      "outputs": [
        {
          "output_type": "stream",
          "text": [
            "[3.0]\n"
          ],
          "name": "stdout"
        }
      ]
    },
    {
      "cell_type": "code",
      "metadata": {
        "colab": {
          "base_uri": "https://localhost:8080/",
          "height": 298
        },
        "id": "bUhAs9eB1cyl",
        "outputId": "cdd2f6bf-9f1d-4621-c421-f18b72726d28"
      },
      "source": [
        "mode = 3.5\n",
        "mean = 3.45\n",
        "median = 3.0\n",
        "#plot\n",
        "star_counts = star_counts.sort_values(ascending=True, by='stars')\n",
        "data_labels = [rate for rate in star_counts['stars'].values]\n",
        "data_points = [count_val for count_val in star_counts['count'].values]\n",
        "\n",
        "# plt.figure(figsize=(8,6))\n",
        "y_pos = np.arange(len(data_labels))\n",
        "plt.bar(data_labels, data_points, align='center', alpha=0.5, color='purple', width=0.4)\n",
        "plt.xticks(data_labels)\n",
        "plt.ylabel('Number of food businesses', fontsize=12)\n",
        "plt.xlabel('Star Ratings ', fontsize=12)\n",
        "plt.title(\"Food/Restaurant Rating Distribution in Atlanta\")\n",
        "\n",
        "\n",
        "line1 = plt.axvline((mean), color='r', linestyle='--')\n",
        "line2 = plt.axvline((median), color='g', linestyle='--')\n",
        "line3 = plt.axvline((mode), color='b', linestyle='--')\n",
        "plt.legend((line1, line2, line3), ('mean', 'median', 'mode'))\n",
        "\n",
        "plt.show()"
      ],
      "execution_count": 17,
      "outputs": [
        {
          "output_type": "display_data",
          "data": {
            "image/png": "[encoded data removed]",
            "text/plain": [
              "<Figure size 432x288 with 1 Axes>"
            ]
          },
          "metadata": {
            "tags": [],
            "needs_background": "light"
          }
        }
      ]
    },
    {
      "cell_type": "code",
      "metadata": {
        "id": "IMfv5V-03tyb"
      },
      "source": [
        "review_counts = atl_food_reviews.groupby('user_id').count().toPandas()\n",
        "bins = [0, 1, 2, 3, 4, 5, 10, 20, 50, 100, 200, 500, 1000, 5000]\n",
        "groups = pd.cut(review_counts['count'], bins)\n",
        "review_counts_grouped = review_counts.groupby(groups)['count'].agg(['count'])\n",
        "review_counts_details = review_counts_grouped.rename(columns={'count': 'user_count'})"
      ],
      "execution_count": 18,
      "outputs": []
    },
    {
      "cell_type": "code",
      "metadata": {
        "colab": {
          "base_uri": "https://localhost:8080/",
          "height": 473
        },
        "id": "wrSWBjaFVb34",
        "outputId": "bdc41507-5e6e-4760-aa58-41b5b24166f1"
      },
      "source": [
        "review_counts_details"
      ],
      "execution_count": 19,
      "outputs": [
        {
          "output_type": "execute_result",
          "data": {
            "text/html": [
              "<div>\n",
              "<style scoped>\n",
              "    .dataframe tbody tr th:only-of-type {\n",
              "        vertical-align: middle;\n",
              "    }\n",
              "\n",
              "    .dataframe tbody tr th {\n",
              "        vertical-align: top;\n",
              "    }\n",
              "\n",
              "    .dataframe thead th {\n",
              "        text-align: right;\n",
              "    }\n",
              "</style>\n",
              "<table border=\"1\" class=\"dataframe\">\n",
              "  <thead>\n",
              "    <tr style=\"text-align: right;\">\n",
              "      <th></th>\n",
              "      <th>user_count</th>\n",
              "    </tr>\n",
              "    <tr>\n",
              "      <th>count</th>\n",
              "      <th></th>\n",
              "    </tr>\n",
              "  </thead>\n",
              "  <tbody>\n",
              "    <tr>\n",
              "      <th>(0, 1]</th>\n",
              "      <td>131798</td>\n",
              "    </tr>\n",
              "    <tr>\n",
              "      <th>(1, 2]</th>\n",
              "      <td>33380</td>\n",
              "    </tr>\n",
              "    <tr>\n",
              "      <th>(2, 3]</th>\n",
              "      <td>14380</td>\n",
              "    </tr>\n",
              "    <tr>\n",
              "      <th>(3, 4]</th>\n",
              "      <td>7971</td>\n",
              "    </tr>\n",
              "    <tr>\n",
              "      <th>(4, 5]</th>\n",
              "      <td>4964</td>\n",
              "    </tr>\n",
              "    <tr>\n",
              "      <th>(5, 10]</th>\n",
              "      <td>9845</td>\n",
              "    </tr>\n",
              "    <tr>\n",
              "      <th>(10, 20]</th>\n",
              "      <td>4573</td>\n",
              "    </tr>\n",
              "    <tr>\n",
              "      <th>(20, 50]</th>\n",
              "      <td>2518</td>\n",
              "    </tr>\n",
              "    <tr>\n",
              "      <th>(50, 100]</th>\n",
              "      <td>639</td>\n",
              "    </tr>\n",
              "    <tr>\n",
              "      <th>(100, 200]</th>\n",
              "      <td>201</td>\n",
              "    </tr>\n",
              "    <tr>\n",
              "      <th>(200, 500]</th>\n",
              "      <td>46</td>\n",
              "    </tr>\n",
              "    <tr>\n",
              "      <th>(500, 1000]</th>\n",
              "      <td>1</td>\n",
              "    </tr>\n",
              "    <tr>\n",
              "      <th>(1000, 5000]</th>\n",
              "      <td>1</td>\n",
              "    </tr>\n",
              "  </tbody>\n",
              "</table>\n",
              "</div>"
            ],
            "text/plain": [
              "              user_count\n",
              "count                   \n",
              "(0, 1]            131798\n",
              "(1, 2]             33380\n",
              "(2, 3]             14380\n",
              "(3, 4]              7971\n",
              "(4, 5]              4964\n",
              "(5, 10]             9845\n",
              "(10, 20]            4573\n",
              "(20, 50]            2518\n",
              "(50, 100]            639\n",
              "(100, 200]           201\n",
              "(200, 500]            46\n",
              "(500, 1000]            1\n",
              "(1000, 5000]           1"
            ]
          },
          "metadata": {
            "tags": []
          },
          "execution_count": 19
        }
      ]
    },
    {
      "cell_type": "code",
      "metadata": {
        "id": "SW8is0bvV7OO"
      },
      "source": [
        "# PRE-PROCESSING: REMOVE USERS WITH <= 5 REVIEWS\n",
        "high_reviewers = review_counts[review_counts['count'] > 5]['user_id'].values\n",
        "list_reviewers = set([reviewer for reviewer in high_reviewers])\n",
        "\n",
        "# Keep reviews by high reviewing users\n",
        "reviews_final = atl_food_reviews[atl_food_reviews['user_id'].isin(list_reviewers)]\n",
        "# Remove these users\n",
        "users_final = users_sk[users_sk['user_id'].isin(list_reviewers)]"
      ],
      "execution_count": 20,
      "outputs": []
    },
    {
      "cell_type": "code",
      "metadata": {
        "id": "ePOzUgmBVT85"
      },
      "source": [
        "#library imports\n",
        "import numpy as np\n",
        "import pandas as pd\n",
        "from collections import Counter\n",
        "from sklearn.model_selection import train_test_split\n",
        "from scipy import sparse\n"
      ],
      "execution_count": 22,
      "outputs": []
    },
    {
      "cell_type": "code",
      "metadata": {
        "id": "dsjlN77HVaSF"
      },
      "source": [
        "ratings_df = atl_food_reviews.select('user_id', 'business_id', 'rating')"
      ],
      "execution_count": 23,
      "outputs": []
    },
    {
      "cell_type": "code",
      "metadata": {
        "colab": {
          "base_uri": "https://localhost:8080/"
        },
        "id": "nzoXvi1kcPh_",
        "outputId": "568e72d7-7b6d-4b6f-8b08-b039d9ec4c25"
      },
      "source": [
        "w = Window().partitionBy().orderBy(\"business_id\")\n",
        "rest_sk = atl_food_business.withColumn('business_cid', row_number().over(w)-1)\n",
        "rest_sk.select('business_cid', 'name', 'stars').show(5)"
      ],
      "execution_count": 24,
      "outputs": [
        {
          "output_type": "stream",
          "text": [
            "+------------+-------------------+-----+\n",
            "|business_cid|               name|stars|\n",
            "+------------+-------------------+-----+\n",
            "|           0|    Planet Smoothie|  4.5|\n",
            "|           1|      Burger Theory|  4.0|\n",
            "|           2|   Big Daddy's Dish|  3.5|\n",
            "|           3|              Verde|  3.5|\n",
            "|           4|Marcello's at Emory|  3.5|\n",
            "+------------+-------------------+-----+\n",
            "only showing top 5 rows\n",
            "\n"
          ],
          "name": "stdout"
        }
      ]
    },
    {
      "cell_type": "code",
      "metadata": {
        "id": "uPx9DKFMdJbk"
      },
      "source": [
        "rest_reviews_sk = atl_food_reviews.join(rest_sk.select('business_id', 'business_cid'), on='business_id', how='inner')\n"
      ],
      "execution_count": 25,
      "outputs": []
    },
    {
      "cell_type": "code",
      "metadata": {
        "colab": {
          "base_uri": "https://localhost:8080/"
        },
        "id": "Zpbh4k2gcieN",
        "outputId": "0b22e6b9-82f1-4acf-d53f-cda969de16fd"
      },
      "source": [
        "# Unique users extraction\n",
        "unique_users = atl_food_reviews.select(['user_id']).drop_duplicates()\n",
        "rest_users_sk = users_sk.join(unique_users, 'user_id', 'inner')\n",
        "rest_users_sk.count()"
      ],
      "execution_count": 26,
      "outputs": [
        {
          "output_type": "execute_result",
          "data": {
            "text/plain": [
              "210317"
            ]
          },
          "metadata": {
            "tags": []
          },
          "execution_count": 26
        }
      ]
    },
    {
      "cell_type": "code",
      "metadata": {
        "id": "XtkCeWa0cvrL"
      },
      "source": [
        "w = Window().partitionBy().orderBy(\"user_id\")\n",
        "rest_users = rest_users_sk.withColumn('user_cid', row_number().over(w) - 1)"
      ],
      "execution_count": 27,
      "outputs": []
    },
    {
      "cell_type": "code",
      "metadata": {
        "colab": {
          "base_uri": "https://localhost:8080/"
        },
        "id": "FPUdLdgtdeyD",
        "outputId": "7a5ba80d-a371-46c3-9e78-ddbf88fb399c"
      },
      "source": [
        "w = Window().partitionBy().orderBy(\"review_id\")\n",
        "rest_reviews = rest_reviews_sk.withColumn('review_cid', row_number().over(w) - 1)\n",
        "rest_reviews.select('review_cid', 'review_id','business_cid', 'business_id','user_id','rating').show(5)"
      ],
      "execution_count": 28,
      "outputs": [
        {
          "output_type": "stream",
          "text": [
            "+----------+--------------------+------------+--------------------+--------------------+------+\n",
            "|review_cid|           review_id|business_cid|         business_id|             user_id|rating|\n",
            "+----------+--------------------+------------+--------------------+--------------------+------+\n",
            "|         0|---7PjSvrmi2bAcAr...|        3028|iG8DnZCnKHH_KYC8p...|O-aq4WiNqyjO9ZgpV...|   5.0|\n",
            "|         1|---eBVF-WcHtyZaEa...|        3154|kRx08q03nV745mDW8...|PPcZ0IdSgo7dD7Bdo...|   4.0|\n",
            "|         2|---eMk6r8ot4sLVv0...|        1520|LbwNEFO6NzfZt9SKS...|ZB2x3zxC8W50Ao8-2...|   1.0|\n",
            "|         3|---glmKKXX8w-tQG6...|         766|A6vrO4KaBkRUWZQKi...|cw7lhK3bZuTWpmNbc...|   2.0|\n",
            "|         4|---q13BxSrxe57HZy...|          61|-z8D7z4o1VXEJtxJT...|Ueu8Xtg3Zpo9EE3bw...|   5.0|\n",
            "+----------+--------------------+------------+--------------------+--------------------+------+\n",
            "only showing top 5 rows\n",
            "\n"
          ],
          "name": "stdout"
        }
      ]
    },
    {
      "cell_type": "code",
      "metadata": {
        "id": "xLMUd_a-eTIW"
      },
      "source": [
        "rest_reviews_final = rest_reviews.join(rest_users.select('user_id', 'user_cid'),'user_id','inner')"
      ],
      "execution_count": 29,
      "outputs": []
    },
    {
      "cell_type": "code",
      "metadata": {
        "colab": {
          "base_uri": "https://localhost:8080/",
          "height": 200
        },
        "id": "gj-8s6Y2gh7q",
        "outputId": "3f1b21e8-bb11-47fe-cb9a-02597bc5fb78"
      },
      "source": [
        "rating_counts = rest_reviews_final.groupby('user_cid').count().toPandas()\n",
        "rating_counts.head()"
      ],
      "execution_count": 30,
      "outputs": [
        {
          "output_type": "execute_result",
          "data": {
            "text/html": [
              "<div>\n",
              "<style scoped>\n",
              "    .dataframe tbody tr th:only-of-type {\n",
              "        vertical-align: middle;\n",
              "    }\n",
              "\n",
              "    .dataframe tbody tr th {\n",
              "        vertical-align: top;\n",
              "    }\n",
              "\n",
              "    .dataframe thead th {\n",
              "        text-align: right;\n",
              "    }\n",
              "</style>\n",
              "<table border=\"1\" class=\"dataframe\">\n",
              "  <thead>\n",
              "    <tr style=\"text-align: right;\">\n",
              "      <th></th>\n",
              "      <th>user_cid</th>\n",
              "      <th>count</th>\n",
              "    </tr>\n",
              "  </thead>\n",
              "  <tbody>\n",
              "    <tr>\n",
              "      <th>0</th>\n",
              "      <td>15790</td>\n",
              "      <td>2</td>\n",
              "    </tr>\n",
              "    <tr>\n",
              "      <th>1</th>\n",
              "      <td>45615</td>\n",
              "      <td>3</td>\n",
              "    </tr>\n",
              "    <tr>\n",
              "      <th>2</th>\n",
              "      <td>80451</td>\n",
              "      <td>2</td>\n",
              "    </tr>\n",
              "    <tr>\n",
              "      <th>3</th>\n",
              "      <td>72758</td>\n",
              "      <td>1</td>\n",
              "    </tr>\n",
              "    <tr>\n",
              "      <th>4</th>\n",
              "      <td>95940</td>\n",
              "      <td>1</td>\n",
              "    </tr>\n",
              "  </tbody>\n",
              "</table>\n",
              "</div>"
            ],
            "text/plain": [
              "   user_cid  count\n",
              "0     15790      2\n",
              "1     45615      3\n",
              "2     80451      2\n",
              "3     72758      1\n",
              "4     95940      1"
            ]
          },
          "metadata": {
            "tags": []
          },
          "execution_count": 30
        }
      ]
    },
    {
      "cell_type": "code",
      "metadata": {
        "id": "o1p7nT2GhHQ2"
      },
      "source": [
        "# PRE-PROCESSING: REMOVE USERS WITH <= 5 REVIEWS\n",
        "high_reviewers = rating_counts[rating_counts['count'] > 5]['user_cid'].values\n",
        "list_reviewers = set([int(reviewer) for reviewer in high_reviewers])\n",
        "\n",
        "# Keep reviews by high reviewing users\n",
        "rest_reviews_final = rest_reviews_final[rest_reviews_final['user_cid'].isin(list_reviewers)]\n",
        "# Remove these users"
      ],
      "execution_count": 31,
      "outputs": []
    },
    {
      "cell_type": "code",
      "metadata": {
        "id": "WbbMy7LykQFc"
      },
      "source": [
        "ratings_df = rest_reviews_final.select('review_id', 'review_cid', 'user_cid', 'user_id', 'business_cid', 'business_id', 'rating').toPandas()\n"
      ],
      "execution_count": 32,
      "outputs": []
    },
    {
      "cell_type": "code",
      "metadata": {
        "id": "w-urLknoZY-3"
      },
      "source": [
        "ratings_df.to_csv('/content/yelp_data.csv')"
      ],
      "execution_count": 33,
      "outputs": []
    }
  ]
}