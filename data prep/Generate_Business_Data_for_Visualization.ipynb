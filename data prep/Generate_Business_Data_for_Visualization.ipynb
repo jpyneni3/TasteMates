{
  "nbformat": 4,
  "nbformat_minor": 0,
  "metadata": {
    "colab": {
      "name": "6242 Generate Business Data for Visualization.ipynb",
      "provenance": []
    },
    "kernelspec": {
      "name": "python3",
      "display_name": "Python 3"
    },
    "language_info": {
      "name": "python"
    }
  },
  "cells": [
    {
      "cell_type": "markdown",
      "metadata": {
        "id": "lD-YZG9JUdZT"
      },
      "source": [
        "### **Formatting business data for frontend map points** ###\n",
        "\n",
        "Author: Neha Deshpande"
      ]
    },
    {
      "cell_type": "code",
      "metadata": {
        "id": "mw-Mxpu2PZQ4"
      },
      "source": [
        "# Imports\n",
        "#basics\n",
        "import numpy as np\n",
        "import pandas as pd\n",
        "import scipy \n",
        "\n",
        "#misc\n",
        "import time\n",
        "\n",
        "#files & data\n",
        "import json\n",
        "from google.colab import files\n",
        "\n",
        "#viz\n",
        "import matplotlib.pyplot as plt\n",
        "import seaborn as sns \n",
        "\n",
        "#settings\n",
        "color = sns.color_palette()\n"
      ],
      "execution_count": 1,
      "outputs": []
    },
    {
      "cell_type": "code",
      "metadata": {
        "id": "1nym53GmPeyt"
      },
      "source": [
        "# Install kaggle and create directory to store kaggle.json\n",
        "!pip install -U -q kaggle\n",
        "!mkdir -p ~/.kaggle"
      ],
      "execution_count": 2,
      "outputs": []
    },
    {
      "cell_type": "code",
      "metadata": {
        "colab": {
          "base_uri": "https://localhost:8080/"
        },
        "id": "72KzyTnRPkmH",
        "outputId": "43a3d4cf-cb9b-42e8-9d9e-9f2965373bef"
      },
      "source": [
        "# Check if .kaggle exists in what is printed after running this cell\n",
        "!ls ~/ -a"
      ],
      "execution_count": 3,
      "outputs": [
        {
          "output_type": "stream",
          "text": [
            ".   .bashrc  .config  .ipython\t.kaggle  .local  .profile\n",
            "..  .cache   .gsutil  .jupyter\t.keras\t .npm\t .tmux.conf\n"
          ],
          "name": "stdout"
        }
      ]
    },
    {
      "cell_type": "code",
      "metadata": {
        "id": "imv66miqPmM6"
      },
      "source": [
        "#########################################################\n",
        "#             STEP 1: GET DATASET INTO COLAB            #\n",
        "#########################################################\n",
        "# Source: https://medium.com/@opalkabert/downloading-kaggle-datasets-into-google-colab-fb9654c94235\n",
        "# Get JSON Kaggle API token by going to: \n",
        "# 1. Kaggle Profile\n",
        "# 2. Go to Accounts tab\n",
        "# 3. Scroll down to API and \"Create new API Token\"\n",
        "# 4. JSON file should be automatically downloaded"
      ],
      "execution_count": 4,
      "outputs": []
    },
    {
      "cell_type": "code",
      "metadata": {
        "colab": {
          "resources": {
            "http://localhost:8080/nbextensions/google.colab/files.js": {
              "data": "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",
              "ok": true,
              "headers": [
                [
                  "content-type",
                  "application/javascript"
                ]
              ],
              "status": 200,
              "status_text": ""
            }
          },
          "base_uri": "https://localhost:8080/",
          "height": 108
        },
        "id": "_FshjzHnPoPL",
        "outputId": "fc073391-1352-4b16-a748-0d7ff56a36ff"
      },
      "source": [
        "# Upload kaggle.json you downloaded in the previous step\n",
        "files.upload()"
      ],
      "execution_count": 5,
      "outputs": [
        {
          "output_type": "display_data",
          "data": {
            "text/html": [
              "\n",
              "     <input type=\"file\" id=\"files-d4f52850-9541-43d2-a550-f0bf8cbf7851\" name=\"files[]\" multiple disabled\n",
              "        style=\"border:none\" />\n",
              "     <output id=\"result-d4f52850-9541-43d2-a550-f0bf8cbf7851\">\n",
              "      Upload widget is only available when the cell has been executed in the\n",
              "      current browser session. Please rerun this cell to enable.\n",
              "      </output>\n",
              "      <script src=\"/nbextensions/google.colab/files.js\"></script> "
            ],
            "text/plain": [
              "<IPython.core.display.HTML object>"
            ]
          },
          "metadata": {
            "tags": []
          }
        },
        {
          "output_type": "stream",
          "text": [
            "Saving kaggle.json to kaggle.json\n"
          ],
          "name": "stdout"
        },
        {
          "output_type": "execute_result",
          "data": {
            "text/plain": [
              "{'kaggle.json': b'{\"username\":\"nehadesh\",\"key\":\"b1ff3516c2e6233953aac308c8a8aab7\"}'}"
            ]
          },
          "metadata": {
            "tags": []
          },
          "execution_count": 5
        }
      ]
    },
    {
      "cell_type": "code",
      "metadata": {
        "id": "pvFPMJmFPpr7"
      },
      "source": [
        "# Store Kaggle API token in colab\n",
        "!rm -f ~/.kaggle/kaggle.json\n",
        "!cp kaggle.json ~/.kaggle/"
      ],
      "execution_count": 6,
      "outputs": []
    },
    {
      "cell_type": "code",
      "metadata": {
        "id": "en58bdnWPu9B"
      },
      "source": [
        "# Kaggle recommends running this to prevent other users of your computer from accessing your credentials\n",
        "!chmod 600 ~/.kaggle/kaggle.json"
      ],
      "execution_count": 7,
      "outputs": []
    },
    {
      "cell_type": "code",
      "metadata": {
        "colab": {
          "base_uri": "https://localhost:8080/"
        },
        "id": "06hM8iezPwIL",
        "outputId": "7e9c32ee-ee57-4dc3-a0cf-0b6171ea1f9c"
      },
      "source": [
        "# Download Yelp Dataset from Kaggle: \n",
        "# Link to dataset: https://www.kaggle.com/yelp-dataset/yelp-dataset\n",
        "!kaggle datasets download -d yelp-dataset/yelp-dataset\n",
        "!ls"
      ],
      "execution_count": 8,
      "outputs": [
        {
          "output_type": "stream",
          "text": [
            "Downloading yelp-dataset.zip to /content\n",
            "100% 4.92G/4.92G [01:29<00:00, 68.6MB/s]\n",
            "100% 4.92G/4.92G [01:29<00:00, 58.8MB/s]\n",
            "kaggle.json  sample_data  yelp-dataset.zip\n"
          ],
          "name": "stdout"
        }
      ]
    },
    {
      "cell_type": "code",
      "metadata": {
        "colab": {
          "base_uri": "https://localhost:8080/"
        },
        "id": "lhwbde8QPxgz",
        "outputId": "6c56a7ff-a823-4579-b960-ab7f84d0cf40"
      },
      "source": [
        "# Unzip Yelp Data\n",
        "!unzip '/content/yelp-dataset.zip' -d '/content/yelp-dataset'"
      ],
      "execution_count": 9,
      "outputs": [
        {
          "output_type": "stream",
          "text": [
            "Archive:  /content/yelp-dataset.zip\n",
            "  inflating: /content/yelp-dataset/Dataset_User_Agreement.pdf  \n",
            "  inflating: /content/yelp-dataset/yelp_academic_dataset_business.json  \n",
            "  inflating: /content/yelp-dataset/yelp_academic_dataset_checkin.json  \n",
            "  inflating: /content/yelp-dataset/yelp_academic_dataset_review.json  \n",
            "  inflating: /content/yelp-dataset/yelp_academic_dataset_tip.json  \n",
            "  inflating: /content/yelp-dataset/yelp_academic_dataset_user.json  \n"
          ],
          "name": "stdout"
        }
      ]
    },
    {
      "cell_type": "code",
      "metadata": {
        "colab": {
          "base_uri": "https://localhost:8080/"
        },
        "id": "IgjpJ3PvPytf",
        "outputId": "e4ff9d54-e0cb-40f2-87b6-2afabe7f073f"
      },
      "source": [
        "# Larger datasets require pyspark\n",
        "!pip install pyspark"
      ],
      "execution_count": 10,
      "outputs": [
        {
          "output_type": "stream",
          "text": [
            "Collecting pyspark\n",
            "\u001b[?25l  Downloading https://files.pythonhosted.org/packages/45/b0/9d6860891ab14a39d4bddf80ba26ce51c2f9dc4805e5c6978ac0472c120a/pyspark-3.1.1.tar.gz (212.3MB)\n",
            "\u001b[K     |████████████████████████████████| 212.3MB 89kB/s \n",
            "\u001b[?25hCollecting py4j==0.10.9\n",
            "\u001b[?25l  Downloading https://files.pythonhosted.org/packages/9e/b6/6a4fb90cd235dc8e265a6a2067f2a2c99f0d91787f06aca4bcf7c23f3f80/py4j-0.10.9-py2.py3-none-any.whl (198kB)\n",
            "\u001b[K     |████████████████████████████████| 204kB 57.4MB/s \n",
            "\u001b[?25hBuilding wheels for collected packages: pyspark\n",
            "  Building wheel for pyspark (setup.py) ... \u001b[?25l\u001b[?25hdone\n",
            "  Created wheel for pyspark: filename=pyspark-3.1.1-py2.py3-none-any.whl size=212767604 sha256=5f7824a76ae5527d6a68c7348b35ce3064d9caba9607c9b898a863fe73bf03fc\n",
            "  Stored in directory: /root/.cache/pip/wheels/0b/90/c0/01de724414ef122bd05f056541fb6a0ecf47c7ca655f8b3c0f\n",
            "Successfully built pyspark\n",
            "Installing collected packages: py4j, pyspark\n",
            "Successfully installed py4j-0.10.9 pyspark-3.1.1\n"
          ],
          "name": "stdout"
        }
      ]
    },
    {
      "cell_type": "code",
      "metadata": {
        "id": "J1Q7BtdlP0Bw"
      },
      "source": [
        "from pyspark.sql import SparkSession\n",
        "from pyspark.sql.functions import *\n",
        "from pyspark.sql.window import Window"
      ],
      "execution_count": 11,
      "outputs": []
    },
    {
      "cell_type": "code",
      "metadata": {
        "id": "JTi5fGDLP1VV"
      },
      "source": [
        "spark = SparkSession.builder.appName('yelp_dataset').getOrCreate()"
      ],
      "execution_count": 12,
      "outputs": []
    },
    {
      "cell_type": "code",
      "metadata": {
        "id": "_929VDWeP2wo"
      },
      "source": [
        "# RAW, UNCLEANED DATA (refer to the other notebook for how to clean, etc. Didn't want to remove anything if y'all needed it)\n",
        "reviews_sk = spark.read.json('/content/yelp-dataset/yelp_academic_dataset_review.json')\n",
        "business_sk = spark.read.json('/content/yelp-dataset/yelp_academic_dataset_business.json')\n",
        "users_sk = spark.read.json('/content/yelp-dataset/yelp_academic_dataset_user.json')\n",
        "# UNCOMMENT BELOW IF YOU NEED THEM\n",
        "# tips_sk = spark.read.json('/content/yelp-dataset/yelp_academic_dataset_tip.json')\n",
        "# checkin_sk = spark.read.json('/content/yelp-dataset/yelp_academic_dataset_checkin.json')"
      ],
      "execution_count": 13,
      "outputs": []
    },
    {
      "cell_type": "code",
      "metadata": {
        "id": "aIdxrD0oP-sv"
      },
      "source": [
        "# Get dataset for Atlanta\n",
        "food_business = business_sk.filter(col('categories').contains('Restaurant'))\n",
        "atl_food_business = food_business.filter(lower(col(\"city\")) == \"atlanta\")\n",
        "atl_food_business = atl_food_business.filter(lower(col(\"state\")) == \"ga\")"
      ],
      "execution_count": 14,
      "outputs": []
    },
    {
      "cell_type": "code",
      "metadata": {
        "id": "0pq0yzNwQHXG"
      },
      "source": [
        "reviews_sk = reviews_sk.withColumn(\"rating\", reviews_sk['stars'].cast(\"double\"))\n",
        "atl_food_reviews = reviews_sk.join(atl_food_business, \"business_id\", \"inner\")"
      ],
      "execution_count": 15,
      "outputs": []
    },
    {
      "cell_type": "code",
      "metadata": {
        "id": "99sxLJykQZvw"
      },
      "source": [
        "final_data = atl_food_business.select(\"business_id\", \"name\", \"stars\", \"latitude\", \"longitude\", \"categories\")"
      ],
      "execution_count": 18,
      "outputs": []
    },
    {
      "cell_type": "code",
      "metadata": {
        "id": "Z7mQYmdIRAAh"
      },
      "source": [
        "cuisine_set = set()\n",
        "cuisine_set.add('Afghan')\n",
        "cuisine_set.add('African')\n",
        "# cuisine_set.add('Senegalese')\n",
        "# cuisine_set.add('South African')\n",
        "cuisine_set.add('American (New)')\n",
        "cuisine_set.add('American (Traditional)')\n",
        "cuisine_set.add('Arabian')\n",
        "cuisine_set.add('Argentine')\n",
        "cuisine_set.add('Armenian')\n",
        "cuisine_set.add('Asian Fusion')\n",
        "cuisine_set.add('Australian')\n",
        "cuisine_set.add('Austrian')\n",
        "cuisine_set.add('Bangladeshi')\n",
        "cuisine_set.add('Barbeque')\n",
        "cuisine_set.add('Basque')\n",
        "cuisine_set.add('Belgian')\n",
        "cuisine_set.add('Brasseries')\n",
        "cuisine_set.add('Brazilian')\n",
        "cuisine_set.add('Breakfast & Brunch')\n",
        "# cuisine_set.add('Pancakes')\n",
        "cuisine_set.add('British')\n",
        "cuisine_set.add('Buffets')\n",
        "cuisine_set.add('Bulgarian')\n",
        "cuisine_set.add('Burgers')\n",
        "cuisine_set.add('Burmese')\n",
        "cuisine_set.add('Cafes')\n",
        "# cuisine_set.add('Themed Cafes')\n",
        "cuisine_set.add('Cafeteria')\n",
        "cuisine_set.add('Cajun/Creole')\n",
        "cuisine_set.add('Cambodian')\n",
        "cuisine_set.add('Caribbean')\n",
        "# cuisine_set.add('Dominican')\n",
        "# cuisine_set.add('Haitian')\n",
        "# cuisine_set.add('Puerto Rican')\n",
        "# cuisine_set.add('Trinidadian')\n",
        "cuisine_set.add('Catalan')\n",
        "cuisine_set.add('Cheesesteaks')\n",
        "cuisine_set.add('Chicken Shop')\n",
        "cuisine_set.add('Chicken Wings')\n",
        "cuisine_set.add('Chinese')\n",
        "# cuisine_set.add('Cantonese')\n",
        "# cuisine_set.add('Dim Sum')\n",
        "# cuisine_set.add('Hainan')\n",
        "# cuisine_set.add('Shanghainese')\n",
        "# cuisine_set.add('Szechuan')\n",
        "cuisine_set.add('Comfort Food')\n",
        "cuisine_set.add('Creperies')\n",
        "cuisine_set.add('Cuban')\n",
        "cuisine_set.add('Czech')\n",
        "cuisine_set.add('Delis')\n",
        "cuisine_set.add('Diners')\n",
        "cuisine_set.add('Dinner Theater')\n",
        "cuisine_set.add('Eritrean')\n",
        "cuisine_set.add('Ethiopian')\n",
        "cuisine_set.add('Fast Food')\n",
        "cuisine_set.add('Filipino')\n",
        "cuisine_set.add('Fish & Chips')\n",
        "cuisine_set.add('Fondue')\n",
        "cuisine_set.add('Food Court')\n",
        "cuisine_set.add('Food Stands')\n",
        "cuisine_set.add('French')\n",
        "# cuisine_set.add('Mauritius')\n",
        "# cuisine_set.add('Reunion')\n",
        "cuisine_set.add('Game Meat')\n",
        "cuisine_set.add('Gastropubs')\n",
        "cuisine_set.add('Georgian')\n",
        "cuisine_set.add('German')\n",
        "cuisine_set.add('Gluten-Free')\n",
        "cuisine_set.add('Greek')\n",
        "cuisine_set.add('Guamanian')\n",
        "cuisine_set.add('Halal')\n",
        "cuisine_set.add('Hawaiian')\n",
        "cuisine_set.add('Himalayan/Nepalese')\n",
        "cuisine_set.add('Honduran')\n",
        "cuisine_set.add('Hong Kong Style Cafe')\n",
        "cuisine_set.add('Hot Dogs')\n",
        "cuisine_set.add('Hot Pot')\n",
        "cuisine_set.add('Hungarian')\n",
        "cuisine_set.add('Iberian')\n",
        "cuisine_set.add('Indian')\n",
        "cuisine_set.add('Indonesian')\n",
        "cuisine_set.add('Irish')\n",
        "cuisine_set.add('Italian')\n",
        "# cuisine_set.add('Calabrian')\n",
        "# cuisine_set.add('Sardinian')\n",
        "# cuisine_set.add('Sicilian')\n",
        "# cuisine_set.add('Tuscan')\n",
        "cuisine_set.add('Japanese')\n",
        "# cuisine_set.add('Conveyor Belt Sushi')\n",
        "# cuisine_set.add('Izakaya')\n",
        "# cuisine_set.add('Japanese Curry')\n",
        "# cuisine_set.add('Ramen')\n",
        "# cuisine_set.add('Teppanyaki')\n",
        "cuisine_set.add('Kebab')\n",
        "cuisine_set.add('Korean')\n",
        "cuisine_set.add('Kosher')\n",
        "cuisine_set.add('Laotian')\n",
        "cuisine_set.add('Latin American')\n",
        "# cuisine_set.add('Colombian')\n",
        "# cuisine_set.add('Salvadoran')\n",
        "# cuisine_set.add('Venezuelan')\n",
        "cuisine_set.add('Live/Raw Food')\n",
        "cuisine_set.add('Malaysian')\n",
        "cuisine_set.add('Mediterranean')\n",
        "# cuisine_set.add('Falafel')\n",
        "cuisine_set.add('Mexican')\n",
        "# cuisine_set.add('Tacos')\n",
        "cuisine_set.add('Middle Eastern')\n",
        "# cuisine_set.add('Egyptian')\n",
        "# cuisine_set.add('Lebanese')\n",
        "cuisine_set.add('Modern European')\n",
        "cuisine_set.add('Mongolian')\n",
        "cuisine_set.add('Moroccan')\n",
        "cuisine_set.add('New Mexican Cuisine')\n",
        "cuisine_set.add('Nicaraguan')\n",
        "cuisine_set.add('Noodles')\n",
        "cuisine_set.add('Pakistani')\n",
        "cuisine_set.add('Pan Asia')\n",
        "cuisine_set.add('Persian/Iranian')\n",
        "cuisine_set.add('Peruvian')\n",
        "cuisine_set.add('Pizza')\n",
        "cuisine_set.add('Polish')\n",
        "cuisine_set.add('Polynesian')\n",
        "cuisine_set.add('Pop-Up Restaurants')\n",
        "cuisine_set.add('Portuguese')\n",
        "cuisine_set.add('Poutineries')\n",
        "cuisine_set.add('Russian')\n",
        "cuisine_set.add('Salad')\n",
        "cuisine_set.add('Sandwiches')\n",
        "cuisine_set.add('Scandinavian')\n",
        "cuisine_set.add('Scottish')\n",
        "cuisine_set.add('Seafood')\n",
        "cuisine_set.add('Singaporean')\n",
        "cuisine_set.add('Slovakian')\n",
        "cuisine_set.add('Somali')\n",
        "cuisine_set.add('Soul Food')\n",
        "cuisine_set.add('Soup')\n",
        "cuisine_set.add('Southern')\n",
        "cuisine_set.add('Spanish')\n",
        "cuisine_set.add('Sri Lankan')\n",
        "cuisine_set.add('Steakhouses')\n",
        "cuisine_set.add('Supper Clubs')\n",
        "cuisine_set.add('Sushi Bars')\n",
        "cuisine_set.add('Syrian')\n",
        "cuisine_set.add('Taiwanese')\n",
        "cuisine_set.add('Tapas Bars')\n",
        "cuisine_set.add('Tapas/Small Plates')\n",
        "cuisine_set.add('Tex-Mex')\n",
        "cuisine_set.add('Thai')\n",
        "cuisine_set.add('Turkish')\n",
        "cuisine_set.add('Ukrainian')\n",
        "cuisine_set.add('Uzbek')\n",
        "cuisine_set.add('Vegan')\n",
        "cuisine_set.add('Vegetarian')\n",
        "cuisine_set.add('Vietnamese')\n",
        "cuisine_set.add('Waffles')\n",
        "cuisine_set.add('Wraps')"
      ],
      "execution_count": 19,
      "outputs": []
    },
    {
      "cell_type": "code",
      "metadata": {
        "colab": {
          "base_uri": "https://localhost:8080/"
        },
        "id": "hJLin4-eRBN0",
        "outputId": "fd623b9f-ccf4-47b6-ffc3-37e5a085fac0"
      },
      "source": [
        "!pip install requests\n",
        "import requests\n",
        "import json"
      ],
      "execution_count": 20,
      "outputs": [
        {
          "output_type": "stream",
          "text": [
            "Requirement already satisfied: requests in /usr/local/lib/python3.7/dist-packages (2.23.0)\n",
            "Requirement already satisfied: urllib3!=1.25.0,!=1.25.1,<1.26,>=1.21.1 in /usr/local/lib/python3.7/dist-packages (from requests) (1.24.3)\n",
            "Requirement already satisfied: chardet<4,>=3.0.2 in /usr/local/lib/python3.7/dist-packages (from requests) (3.0.4)\n",
            "Requirement already satisfied: idna<3,>=2.5 in /usr/local/lib/python3.7/dist-packages (from requests) (2.10)\n",
            "Requirement already satisfied: certifi>=2017.4.17 in /usr/local/lib/python3.7/dist-packages (from requests) (2020.12.5)\n"
          ],
          "name": "stdout"
        }
      ]
    },
    {
      "cell_type": "code",
      "metadata": {
        "id": "RxY4jSGkRGvv"
      },
      "source": [
        "def getCuisine(categories_list):\n",
        "    cuisine=\"\"\n",
        "    categories = categories_list.split(\", \")\n",
        "    for category in categories:\n",
        "      if category in cuisine_set:\n",
        "        return category\n",
        "    return 'Other'"
      ],
      "execution_count": 22,
      "outputs": []
    },
    {
      "cell_type": "code",
      "metadata": {
        "id": "5jnFKJ-4RIim"
      },
      "source": [
        "cuisine_udf = udf(lambda z: getCuisine(z),StringType())\n",
        "final_data = final_data.withColumn('cuisine', cuisine_udf(col('categories')))"
      ],
      "execution_count": 23,
      "outputs": []
    },
    {
      "cell_type": "code",
      "metadata": {
        "id": "CTZl1BPMRQ-p"
      },
      "source": [
        "final_data = final_data.select(\"business_id\", \"name\", \"stars\", \"latitude\", \"longitude\", \"cuisine\")\n",
        "final_data.write.csv('/content/final_data', header=True)"
      ],
      "execution_count": 24,
      "outputs": []
    },
    {
      "cell_type": "code",
      "metadata": {
        "id": "GcAEpWtKRrJy"
      },
      "source": [
        "# RENAME SAVED FILES TO part_1.csv, part_2.csv"
      ],
      "execution_count": 27,
      "outputs": []
    },
    {
      "cell_type": "code",
      "metadata": {
        "id": "r5u8AjzRRam_"
      },
      "source": [
        "api_key = 'YOUR_API_KEY_HERE'\n",
        "def get_neighborhood(lati, longi):\n",
        "  time.sleep(.025)\n",
        "  geo_url = 'https://maps.googleapis.com/maps/api/geocode/json?latlng={},{}&key={}'.format(str(lati), str(longi), api_key)\n",
        "  r = requests.get(geo_url)\n",
        "  address_parts = json.loads(r.text)['results'][0]['address_components']\n",
        "  for addr in address_parts:\n",
        "    if 'neighborhood' in addr['types']:\n",
        "      return addr['long_name']"
      ],
      "execution_count": 28,
      "outputs": []
    },
    {
      "cell_type": "code",
      "metadata": {
        "id": "LWSRzZgaRdaC"
      },
      "source": [
        "import csv\n",
        "for i in range(1, 3):\n",
        "  with open('/content/final_data/part_{}.csv'.format(i),'r') as csvinput:\n",
        "      with open('/content/final_data/part_{}_w_neighb.csv'.format(i), 'w') as csvoutput:\n",
        "          writer = csv.writer(csvoutput, lineterminator='\\n')\n",
        "          reader = csv.reader(csvinput)\n",
        "\n",
        "          all = []\n",
        "          row = next(reader)\n",
        "          row.append('neighborhood')\n",
        "          all.append(row)\n",
        "\n",
        "          for row in reader:\n",
        "              lati = row[3]\n",
        "              longi = row[4]\n",
        "\n",
        "              try:\n",
        "                neighb = get_neighborhood(float(lati), float(longi))\n",
        "                if neighb == None:\n",
        "                  continue\n",
        "                row.append(neighb)\n",
        "                all.append(row)\n",
        "              except Exception as e:\n",
        "                print(e)\n",
        "          writer.writerows(all)"
      ],
      "execution_count": 29,
      "outputs": []
    },
    {
      "cell_type": "code",
      "metadata": {
        "id": "QKAFnx-8SogQ"
      },
      "source": [
        ""
      ],
      "execution_count": null,
      "outputs": []
    }
  ]
}